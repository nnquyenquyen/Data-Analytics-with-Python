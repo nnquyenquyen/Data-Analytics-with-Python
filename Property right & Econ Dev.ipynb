{
 "cells": [
  {
   "cell_type": "markdown",
   "metadata": {},
   "source": [
    "<span style = 'font-size:24px;'> **Property Rights and Economic Development**\n",
    "\n",
    "Conduct data analysis on how to access economic health to measure conditions and outcomes through GDP. The GDP per capita data is from the World Bank and the Economic Freedom is from Frasher Institue. "
   ]
  },
  {
   "cell_type": "code",
   "execution_count": 2,
   "metadata": {},
   "outputs": [],
   "source": [
    "import pandas as pd\n",
    "import numpy as np\n",
    "import matplotlib as plt\n",
    "import matplotlib.pyplot as plt"
   ]
  },
  {
   "cell_type": "markdown",
   "metadata": {},
   "source": [
    "<span style ='font-size:20px;' > **Get data: ec_index**"
   ]
  },
  {
   "cell_type": "code",
   "execution_count": 3,
   "metadata": {},
   "outputs": [
    {
     "data": {
      "text/html": [
       "<div>\n",
       "<style scoped>\n",
       "    .dataframe tbody tr th:only-of-type {\n",
       "        vertical-align: middle;\n",
       "    }\n",
       "\n",
       "    .dataframe tbody tr th {\n",
       "        vertical-align: top;\n",
       "    }\n",
       "\n",
       "    .dataframe thead th {\n",
       "        text-align: right;\n",
       "    }\n",
       "</style>\n",
       "<table border=\"1\" class=\"dataframe\">\n",
       "  <thead>\n",
       "    <tr style=\"text-align: right;\">\n",
       "      <th></th>\n",
       "      <th>Unnamed: 0</th>\n",
       "      <th>Unnamed: 1</th>\n",
       "      <th>Unnamed: 2</th>\n",
       "      <th>Unnamed: 3</th>\n",
       "      <th>Unnamed: 4</th>\n",
       "      <th>Unnamed: 5</th>\n",
       "      <th>Unnamed: 6</th>\n",
       "      <th>Unnamed: 7</th>\n",
       "      <th>Unnamed: 8</th>\n",
       "      <th>Unnamed: 9</th>\n",
       "      <th>...</th>\n",
       "      <th>Unnamed: 67</th>\n",
       "      <th>Unnamed: 68</th>\n",
       "      <th>Unnamed: 69</th>\n",
       "      <th>Unnamed: 70</th>\n",
       "      <th>Unnamed: 71</th>\n",
       "      <th>Unnamed: 72</th>\n",
       "      <th>Unnamed: 73</th>\n",
       "      <th>Unnamed: 74</th>\n",
       "      <th>Unnamed: 75</th>\n",
       "      <th>Unnamed: 76</th>\n",
       "    </tr>\n",
       "  </thead>\n",
       "  <tbody>\n",
       "    <tr>\n",
       "      <th>0</th>\n",
       "      <td>NaN</td>\n",
       "      <td>NaN</td>\n",
       "      <td>NaN</td>\n",
       "      <td>NaN</td>\n",
       "      <td>NaN</td>\n",
       "      <td>NaN</td>\n",
       "      <td>NaN</td>\n",
       "      <td>Area 1</td>\n",
       "      <td>NaN</td>\n",
       "      <td>NaN</td>\n",
       "      <td>...</td>\n",
       "      <td>NaN</td>\n",
       "      <td>NaN</td>\n",
       "      <td>NaN</td>\n",
       "      <td>NaN</td>\n",
       "      <td>NaN</td>\n",
       "      <td>NaN</td>\n",
       "      <td>NaN</td>\n",
       "      <td>NaN</td>\n",
       "      <td>NaN</td>\n",
       "      <td>NaN</td>\n",
       "    </tr>\n",
       "    <tr>\n",
       "      <th>1</th>\n",
       "      <td>NaN</td>\n",
       "      <td>NaN</td>\n",
       "      <td>NaN</td>\n",
       "      <td>NaN</td>\n",
       "      <td>NaN</td>\n",
       "      <td>NaN</td>\n",
       "      <td>NaN</td>\n",
       "      <td>1A</td>\n",
       "      <td>NaN</td>\n",
       "      <td>1B</td>\n",
       "      <td>...</td>\n",
       "      <td>5C</td>\n",
       "      <td>NaN</td>\n",
       "      <td>NaN</td>\n",
       "      <td>NaN</td>\n",
       "      <td>NaN</td>\n",
       "      <td>5D</td>\n",
       "      <td>NaN</td>\n",
       "      <td>NaN</td>\n",
       "      <td>NaN</td>\n",
       "      <td>NaN</td>\n",
       "    </tr>\n",
       "    <tr>\n",
       "      <th>2</th>\n",
       "      <td>NaN</td>\n",
       "      <td>NaN</td>\n",
       "      <td>NaN</td>\n",
       "      <td>NaN</td>\n",
       "      <td>NaN</td>\n",
       "      <td>NaN</td>\n",
       "      <td>NaN</td>\n",
       "      <td>NaN</td>\n",
       "      <td>NaN</td>\n",
       "      <td>NaN</td>\n",
       "      <td>...</td>\n",
       "      <td>5Ci</td>\n",
       "      <td>5Cii</td>\n",
       "      <td>5Ciii</td>\n",
       "      <td>5Civ</td>\n",
       "      <td>NaN</td>\n",
       "      <td>5Di</td>\n",
       "      <td>5Dii</td>\n",
       "      <td>5Diii</td>\n",
       "      <td>NaN</td>\n",
       "      <td>NaN</td>\n",
       "    </tr>\n",
       "    <tr>\n",
       "      <th>3</th>\n",
       "      <td>NaN</td>\n",
       "      <td>Year</td>\n",
       "      <td>ISO Code</td>\n",
       "      <td>Countries</td>\n",
       "      <td>Economic Freedom Summary Index</td>\n",
       "      <td>Rank</td>\n",
       "      <td>Quartile</td>\n",
       "      <td>Government consumption</td>\n",
       "      <td>data</td>\n",
       "      <td>Transfers and subsidies</td>\n",
       "      <td>...</td>\n",
       "      <td>Regulatory Burden</td>\n",
       "      <td>Bureacracy costs</td>\n",
       "      <td>Impartial Public Administration</td>\n",
       "      <td>Tax compliance</td>\n",
       "      <td>Business regulations</td>\n",
       "      <td>Market openness</td>\n",
       "      <td>Business Permits</td>\n",
       "      <td>Distorton of the business environment</td>\n",
       "      <td>Freedom to enter markets and compete</td>\n",
       "      <td>Regulation</td>\n",
       "    </tr>\n",
       "    <tr>\n",
       "      <th>4</th>\n",
       "      <td>NaN</td>\n",
       "      <td>2021</td>\n",
       "      <td>AGO</td>\n",
       "      <td>Angola</td>\n",
       "      <td>5.38</td>\n",
       "      <td>149</td>\n",
       "      <td>4</td>\n",
       "      <td>7.18</td>\n",
       "      <td>15.59</td>\n",
       "      <td>9.70</td>\n",
       "      <td>...</td>\n",
       "      <td>2.94</td>\n",
       "      <td>4.67</td>\n",
       "      <td>4.90</td>\n",
       "      <td>4.64</td>\n",
       "      <td>4.29</td>\n",
       "      <td>3.10</td>\n",
       "      <td>7.92</td>\n",
       "      <td>1.25</td>\n",
       "      <td>4.09</td>\n",
       "      <td>4.73</td>\n",
       "    </tr>\n",
       "    <tr>\n",
       "      <th>...</th>\n",
       "      <td>...</td>\n",
       "      <td>...</td>\n",
       "      <td>...</td>\n",
       "      <td>...</td>\n",
       "      <td>...</td>\n",
       "      <td>...</td>\n",
       "      <td>...</td>\n",
       "      <td>...</td>\n",
       "      <td>...</td>\n",
       "      <td>...</td>\n",
       "      <td>...</td>\n",
       "      <td>...</td>\n",
       "      <td>...</td>\n",
       "      <td>...</td>\n",
       "      <td>...</td>\n",
       "      <td>...</td>\n",
       "      <td>...</td>\n",
       "      <td>...</td>\n",
       "      <td>...</td>\n",
       "      <td>...</td>\n",
       "      <td>...</td>\n",
       "    </tr>\n",
       "    <tr>\n",
       "      <th>164</th>\n",
       "      <td>NaN</td>\n",
       "      <td>2021</td>\n",
       "      <td>VNM</td>\n",
       "      <td>Vietnam</td>\n",
       "      <td>6.26</td>\n",
       "      <td>106</td>\n",
       "      <td>3</td>\n",
       "      <td>7.42</td>\n",
       "      <td>14.78</td>\n",
       "      <td>NaN</td>\n",
       "      <td>...</td>\n",
       "      <td>3.98</td>\n",
       "      <td>5.56</td>\n",
       "      <td>3.88</td>\n",
       "      <td>4.79</td>\n",
       "      <td>4.55</td>\n",
       "      <td>4.55</td>\n",
       "      <td>8.21</td>\n",
       "      <td>3.96</td>\n",
       "      <td>5.57</td>\n",
       "      <td>6.10</td>\n",
       "    </tr>\n",
       "    <tr>\n",
       "      <th>165</th>\n",
       "      <td>NaN</td>\n",
       "      <td>2021</td>\n",
       "      <td>YEM</td>\n",
       "      <td>Yemen, Rep.</td>\n",
       "      <td>4.18</td>\n",
       "      <td>161</td>\n",
       "      <td>4</td>\n",
       "      <td>8.75</td>\n",
       "      <td>10.26</td>\n",
       "      <td>9.02</td>\n",
       "      <td>...</td>\n",
       "      <td>2.94</td>\n",
       "      <td>0.00</td>\n",
       "      <td>0.62</td>\n",
       "      <td>6.11</td>\n",
       "      <td>2.42</td>\n",
       "      <td>2.07</td>\n",
       "      <td>NaN</td>\n",
       "      <td>5.00</td>\n",
       "      <td>3.54</td>\n",
       "      <td>3.08</td>\n",
       "    </tr>\n",
       "    <tr>\n",
       "      <th>166</th>\n",
       "      <td>NaN</td>\n",
       "      <td>2021</td>\n",
       "      <td>ZAF</td>\n",
       "      <td>South Africa</td>\n",
       "      <td>6.53</td>\n",
       "      <td>94</td>\n",
       "      <td>3</td>\n",
       "      <td>4.66</td>\n",
       "      <td>24.16</td>\n",
       "      <td>7.87</td>\n",
       "      <td>...</td>\n",
       "      <td>3.36</td>\n",
       "      <td>4.22</td>\n",
       "      <td>6.34</td>\n",
       "      <td>7.57</td>\n",
       "      <td>5.37</td>\n",
       "      <td>5.30</td>\n",
       "      <td>8.39</td>\n",
       "      <td>3.75</td>\n",
       "      <td>5.81</td>\n",
       "      <td>6.35</td>\n",
       "    </tr>\n",
       "    <tr>\n",
       "      <th>167</th>\n",
       "      <td>NaN</td>\n",
       "      <td>2021</td>\n",
       "      <td>ZMB</td>\n",
       "      <td>Zambia</td>\n",
       "      <td>5.84</td>\n",
       "      <td>129</td>\n",
       "      <td>4</td>\n",
       "      <td>1.68</td>\n",
       "      <td>34.28</td>\n",
       "      <td>9.32</td>\n",
       "      <td>...</td>\n",
       "      <td>4.22</td>\n",
       "      <td>3.33</td>\n",
       "      <td>4.39</td>\n",
       "      <td>4.30</td>\n",
       "      <td>4.06</td>\n",
       "      <td>2.44</td>\n",
       "      <td>7.85</td>\n",
       "      <td>0.19</td>\n",
       "      <td>3.49</td>\n",
       "      <td>4.89</td>\n",
       "    </tr>\n",
       "    <tr>\n",
       "      <th>168</th>\n",
       "      <td>NaN</td>\n",
       "      <td>2021</td>\n",
       "      <td>ZWE</td>\n",
       "      <td>Zimbabwe</td>\n",
       "      <td>3.81</td>\n",
       "      <td>164</td>\n",
       "      <td>4</td>\n",
       "      <td>6.89</td>\n",
       "      <td>16.58</td>\n",
       "      <td>8.50</td>\n",
       "      <td>...</td>\n",
       "      <td>2.41</td>\n",
       "      <td>2.67</td>\n",
       "      <td>2.63</td>\n",
       "      <td>4.89</td>\n",
       "      <td>3.15</td>\n",
       "      <td>2.08</td>\n",
       "      <td>7.99</td>\n",
       "      <td>0.00</td>\n",
       "      <td>3.36</td>\n",
       "      <td>4.54</td>\n",
       "    </tr>\n",
       "  </tbody>\n",
       "</table>\n",
       "<p>169 rows × 77 columns</p>\n",
       "</div>"
      ],
      "text/plain": [
       "     Unnamed: 0 Unnamed: 1 Unnamed: 2    Unnamed: 3  \\\n",
       "0           NaN        NaN        NaN           NaN   \n",
       "1           NaN        NaN        NaN           NaN   \n",
       "2           NaN        NaN        NaN           NaN   \n",
       "3           NaN       Year   ISO Code     Countries   \n",
       "4           NaN       2021        AGO        Angola   \n",
       "..          ...        ...        ...           ...   \n",
       "164         NaN       2021        VNM       Vietnam   \n",
       "165         NaN       2021        YEM   Yemen, Rep.   \n",
       "166         NaN       2021        ZAF  South Africa   \n",
       "167         NaN       2021        ZMB        Zambia   \n",
       "168         NaN       2021        ZWE      Zimbabwe   \n",
       "\n",
       "                         Unnamed: 4 Unnamed: 5 Unnamed: 6  \\\n",
       "0                               NaN        NaN        NaN   \n",
       "1                               NaN        NaN        NaN   \n",
       "2                               NaN        NaN        NaN   \n",
       "3    Economic Freedom Summary Index       Rank   Quartile   \n",
       "4                              5.38        149          4   \n",
       "..                              ...        ...        ...   \n",
       "164                            6.26        106          3   \n",
       "165                            4.18        161          4   \n",
       "166                            6.53         94          3   \n",
       "167                            5.84        129          4   \n",
       "168                            3.81        164          4   \n",
       "\n",
       "                 Unnamed: 7 Unnamed: 8               Unnamed: 9  ...  \\\n",
       "0                    Area 1        NaN                      NaN  ...   \n",
       "1                        1A        NaN                       1B  ...   \n",
       "2                       NaN        NaN                      NaN  ...   \n",
       "3    Government consumption       data  Transfers and subsidies  ...   \n",
       "4                      7.18      15.59                     9.70  ...   \n",
       "..                      ...        ...                      ...  ...   \n",
       "164                    7.42      14.78                      NaN  ...   \n",
       "165                    8.75      10.26                     9.02  ...   \n",
       "166                    4.66      24.16                     7.87  ...   \n",
       "167                    1.68      34.28                     9.32  ...   \n",
       "168                    6.89      16.58                     8.50  ...   \n",
       "\n",
       "           Unnamed: 67       Unnamed: 68                      Unnamed: 69  \\\n",
       "0                  NaN               NaN                              NaN   \n",
       "1                   5C               NaN                              NaN   \n",
       "2                  5Ci              5Cii                            5Ciii   \n",
       "3    Regulatory Burden  Bureacracy costs  Impartial Public Administration   \n",
       "4                 2.94              4.67                             4.90   \n",
       "..                 ...               ...                              ...   \n",
       "164               3.98              5.56                             3.88   \n",
       "165               2.94              0.00                             0.62   \n",
       "166               3.36              4.22                             6.34   \n",
       "167               4.22              3.33                             4.39   \n",
       "168               2.41              2.67                             2.63   \n",
       "\n",
       "        Unnamed: 70           Unnamed: 71      Unnamed: 72       Unnamed: 73  \\\n",
       "0               NaN                   NaN              NaN               NaN   \n",
       "1               NaN                   NaN               5D               NaN   \n",
       "2              5Civ                   NaN              5Di              5Dii   \n",
       "3    Tax compliance  Business regulations  Market openness  Business Permits   \n",
       "4              4.64                  4.29             3.10              7.92   \n",
       "..              ...                   ...              ...               ...   \n",
       "164            4.79                  4.55             4.55              8.21   \n",
       "165            6.11                  2.42             2.07               NaN   \n",
       "166            7.57                  5.37             5.30              8.39   \n",
       "167            4.30                  4.06             2.44              7.85   \n",
       "168            4.89                  3.15             2.08              7.99   \n",
       "\n",
       "                               Unnamed: 74  \\\n",
       "0                                      NaN   \n",
       "1                                      NaN   \n",
       "2                                    5Diii   \n",
       "3    Distorton of the business environment   \n",
       "4                                     1.25   \n",
       "..                                     ...   \n",
       "164                                   3.96   \n",
       "165                                   5.00   \n",
       "166                                   3.75   \n",
       "167                                   0.19   \n",
       "168                                   0.00   \n",
       "\n",
       "                              Unnamed: 75 Unnamed: 76  \n",
       "0                                     NaN         NaN  \n",
       "1                                     NaN         NaN  \n",
       "2                                     NaN         NaN  \n",
       "3    Freedom to enter markets and compete  Regulation  \n",
       "4                                    4.09        4.73  \n",
       "..                                    ...         ...  \n",
       "164                                  5.57        6.10  \n",
       "165                                  3.54        3.08  \n",
       "166                                  5.81        6.35  \n",
       "167                                  3.49        4.89  \n",
       "168                                  3.36        4.54  \n",
       "\n",
       "[169 rows x 77 columns]"
      ]
     },
     "execution_count": 3,
     "metadata": {},
     "output_type": "execute_result"
    }
   ],
   "source": [
    "ec_index = pd.read_csv('Economic_Data2021.csv')\n",
    "ec_index"
   ]
  },
  {
   "cell_type": "code",
   "execution_count": 4,
   "metadata": {},
   "outputs": [
    {
     "data": {
      "text/html": [
       "<div>\n",
       "<style scoped>\n",
       "    .dataframe tbody tr th:only-of-type {\n",
       "        vertical-align: middle;\n",
       "    }\n",
       "\n",
       "    .dataframe tbody tr th {\n",
       "        vertical-align: top;\n",
       "    }\n",
       "\n",
       "    .dataframe thead th {\n",
       "        text-align: right;\n",
       "    }\n",
       "</style>\n",
       "<table border=\"1\" class=\"dataframe\">\n",
       "  <thead>\n",
       "    <tr style=\"text-align: right;\">\n",
       "      <th>3</th>\n",
       "      <th>NaN</th>\n",
       "      <th>Year</th>\n",
       "      <th>ISO Code</th>\n",
       "      <th>Countries</th>\n",
       "      <th>Economic Freedom Summary Index</th>\n",
       "      <th>Rank</th>\n",
       "      <th>Quartile</th>\n",
       "      <th>Government consumption</th>\n",
       "      <th>data</th>\n",
       "      <th>Transfers and subsidies</th>\n",
       "      <th>...</th>\n",
       "      <th>Regulatory Burden</th>\n",
       "      <th>Bureacracy costs</th>\n",
       "      <th>Impartial Public Administration</th>\n",
       "      <th>Tax compliance</th>\n",
       "      <th>Business regulations</th>\n",
       "      <th>Market openness</th>\n",
       "      <th>Business Permits</th>\n",
       "      <th>Distorton of the business environment</th>\n",
       "      <th>Freedom to enter markets and compete</th>\n",
       "      <th>Regulation</th>\n",
       "    </tr>\n",
       "  </thead>\n",
       "  <tbody>\n",
       "    <tr>\n",
       "      <th>4</th>\n",
       "      <td>NaN</td>\n",
       "      <td>2021</td>\n",
       "      <td>AGO</td>\n",
       "      <td>Angola</td>\n",
       "      <td>5.38</td>\n",
       "      <td>149</td>\n",
       "      <td>4</td>\n",
       "      <td>7.18</td>\n",
       "      <td>15.59</td>\n",
       "      <td>9.70</td>\n",
       "      <td>...</td>\n",
       "      <td>2.94</td>\n",
       "      <td>4.67</td>\n",
       "      <td>4.90</td>\n",
       "      <td>4.64</td>\n",
       "      <td>4.29</td>\n",
       "      <td>3.10</td>\n",
       "      <td>7.92</td>\n",
       "      <td>1.25</td>\n",
       "      <td>4.09</td>\n",
       "      <td>4.73</td>\n",
       "    </tr>\n",
       "    <tr>\n",
       "      <th>5</th>\n",
       "      <td>NaN</td>\n",
       "      <td>2021</td>\n",
       "      <td>ALB</td>\n",
       "      <td>Albania</td>\n",
       "      <td>7.60</td>\n",
       "      <td>31</td>\n",
       "      <td>1</td>\n",
       "      <td>7.76</td>\n",
       "      <td>13.62</td>\n",
       "      <td>7.13</td>\n",
       "      <td>...</td>\n",
       "      <td>5.65</td>\n",
       "      <td>6.22</td>\n",
       "      <td>5.79</td>\n",
       "      <td>3.59</td>\n",
       "      <td>5.31</td>\n",
       "      <td>6.81</td>\n",
       "      <td>5.62</td>\n",
       "      <td>6.25</td>\n",
       "      <td>6.23</td>\n",
       "      <td>6.97</td>\n",
       "    </tr>\n",
       "    <tr>\n",
       "      <th>6</th>\n",
       "      <td>NaN</td>\n",
       "      <td>2021</td>\n",
       "      <td>ARE</td>\n",
       "      <td>United Arab Emirates</td>\n",
       "      <td>7.35</td>\n",
       "      <td>50</td>\n",
       "      <td>2</td>\n",
       "      <td>3.83</td>\n",
       "      <td>26.99</td>\n",
       "      <td>7.96</td>\n",
       "      <td>...</td>\n",
       "      <td>7.03</td>\n",
       "      <td>6.89</td>\n",
       "      <td>7.21</td>\n",
       "      <td>9.35</td>\n",
       "      <td>7.62</td>\n",
       "      <td>8.05</td>\n",
       "      <td>10.00</td>\n",
       "      <td>5.00</td>\n",
       "      <td>7.68</td>\n",
       "      <td>7.47</td>\n",
       "    </tr>\n",
       "    <tr>\n",
       "      <th>7</th>\n",
       "      <td>NaN</td>\n",
       "      <td>2021</td>\n",
       "      <td>ARG</td>\n",
       "      <td>Argentina</td>\n",
       "      <td>4.77</td>\n",
       "      <td>158</td>\n",
       "      <td>4</td>\n",
       "      <td>5.69</td>\n",
       "      <td>20.65</td>\n",
       "      <td>5.54</td>\n",
       "      <td>...</td>\n",
       "      <td>2.71</td>\n",
       "      <td>5.11</td>\n",
       "      <td>7.12</td>\n",
       "      <td>4.50</td>\n",
       "      <td>4.86</td>\n",
       "      <td>6.14</td>\n",
       "      <td>5.73</td>\n",
       "      <td>2.92</td>\n",
       "      <td>4.93</td>\n",
       "      <td>5.30</td>\n",
       "    </tr>\n",
       "    <tr>\n",
       "      <th>8</th>\n",
       "      <td>NaN</td>\n",
       "      <td>2021</td>\n",
       "      <td>ARM</td>\n",
       "      <td>Armenia</td>\n",
       "      <td>7.58</td>\n",
       "      <td>33</td>\n",
       "      <td>1</td>\n",
       "      <td>6.47</td>\n",
       "      <td>17.99</td>\n",
       "      <td>7.32</td>\n",
       "      <td>...</td>\n",
       "      <td>5.17</td>\n",
       "      <td>4.67</td>\n",
       "      <td>6.37</td>\n",
       "      <td>6.02</td>\n",
       "      <td>5.56</td>\n",
       "      <td>5.59</td>\n",
       "      <td>9.30</td>\n",
       "      <td>5.00</td>\n",
       "      <td>6.63</td>\n",
       "      <td>6.94</td>\n",
       "    </tr>\n",
       "    <tr>\n",
       "      <th>...</th>\n",
       "      <td>...</td>\n",
       "      <td>...</td>\n",
       "      <td>...</td>\n",
       "      <td>...</td>\n",
       "      <td>...</td>\n",
       "      <td>...</td>\n",
       "      <td>...</td>\n",
       "      <td>...</td>\n",
       "      <td>...</td>\n",
       "      <td>...</td>\n",
       "      <td>...</td>\n",
       "      <td>...</td>\n",
       "      <td>...</td>\n",
       "      <td>...</td>\n",
       "      <td>...</td>\n",
       "      <td>...</td>\n",
       "      <td>...</td>\n",
       "      <td>...</td>\n",
       "      <td>...</td>\n",
       "      <td>...</td>\n",
       "      <td>...</td>\n",
       "    </tr>\n",
       "    <tr>\n",
       "      <th>164</th>\n",
       "      <td>NaN</td>\n",
       "      <td>2021</td>\n",
       "      <td>VNM</td>\n",
       "      <td>Vietnam</td>\n",
       "      <td>6.26</td>\n",
       "      <td>106</td>\n",
       "      <td>3</td>\n",
       "      <td>7.42</td>\n",
       "      <td>14.78</td>\n",
       "      <td>NaN</td>\n",
       "      <td>...</td>\n",
       "      <td>3.98</td>\n",
       "      <td>5.56</td>\n",
       "      <td>3.88</td>\n",
       "      <td>4.79</td>\n",
       "      <td>4.55</td>\n",
       "      <td>4.55</td>\n",
       "      <td>8.21</td>\n",
       "      <td>3.96</td>\n",
       "      <td>5.57</td>\n",
       "      <td>6.10</td>\n",
       "    </tr>\n",
       "    <tr>\n",
       "      <th>165</th>\n",
       "      <td>NaN</td>\n",
       "      <td>2021</td>\n",
       "      <td>YEM</td>\n",
       "      <td>Yemen, Rep.</td>\n",
       "      <td>4.18</td>\n",
       "      <td>161</td>\n",
       "      <td>4</td>\n",
       "      <td>8.75</td>\n",
       "      <td>10.26</td>\n",
       "      <td>9.02</td>\n",
       "      <td>...</td>\n",
       "      <td>2.94</td>\n",
       "      <td>0.00</td>\n",
       "      <td>0.62</td>\n",
       "      <td>6.11</td>\n",
       "      <td>2.42</td>\n",
       "      <td>2.07</td>\n",
       "      <td>NaN</td>\n",
       "      <td>5.00</td>\n",
       "      <td>3.54</td>\n",
       "      <td>3.08</td>\n",
       "    </tr>\n",
       "    <tr>\n",
       "      <th>166</th>\n",
       "      <td>NaN</td>\n",
       "      <td>2021</td>\n",
       "      <td>ZAF</td>\n",
       "      <td>South Africa</td>\n",
       "      <td>6.53</td>\n",
       "      <td>94</td>\n",
       "      <td>3</td>\n",
       "      <td>4.66</td>\n",
       "      <td>24.16</td>\n",
       "      <td>7.87</td>\n",
       "      <td>...</td>\n",
       "      <td>3.36</td>\n",
       "      <td>4.22</td>\n",
       "      <td>6.34</td>\n",
       "      <td>7.57</td>\n",
       "      <td>5.37</td>\n",
       "      <td>5.30</td>\n",
       "      <td>8.39</td>\n",
       "      <td>3.75</td>\n",
       "      <td>5.81</td>\n",
       "      <td>6.35</td>\n",
       "    </tr>\n",
       "    <tr>\n",
       "      <th>167</th>\n",
       "      <td>NaN</td>\n",
       "      <td>2021</td>\n",
       "      <td>ZMB</td>\n",
       "      <td>Zambia</td>\n",
       "      <td>5.84</td>\n",
       "      <td>129</td>\n",
       "      <td>4</td>\n",
       "      <td>1.68</td>\n",
       "      <td>34.28</td>\n",
       "      <td>9.32</td>\n",
       "      <td>...</td>\n",
       "      <td>4.22</td>\n",
       "      <td>3.33</td>\n",
       "      <td>4.39</td>\n",
       "      <td>4.30</td>\n",
       "      <td>4.06</td>\n",
       "      <td>2.44</td>\n",
       "      <td>7.85</td>\n",
       "      <td>0.19</td>\n",
       "      <td>3.49</td>\n",
       "      <td>4.89</td>\n",
       "    </tr>\n",
       "    <tr>\n",
       "      <th>168</th>\n",
       "      <td>NaN</td>\n",
       "      <td>2021</td>\n",
       "      <td>ZWE</td>\n",
       "      <td>Zimbabwe</td>\n",
       "      <td>3.81</td>\n",
       "      <td>164</td>\n",
       "      <td>4</td>\n",
       "      <td>6.89</td>\n",
       "      <td>16.58</td>\n",
       "      <td>8.50</td>\n",
       "      <td>...</td>\n",
       "      <td>2.41</td>\n",
       "      <td>2.67</td>\n",
       "      <td>2.63</td>\n",
       "      <td>4.89</td>\n",
       "      <td>3.15</td>\n",
       "      <td>2.08</td>\n",
       "      <td>7.99</td>\n",
       "      <td>0.00</td>\n",
       "      <td>3.36</td>\n",
       "      <td>4.54</td>\n",
       "    </tr>\n",
       "  </tbody>\n",
       "</table>\n",
       "<p>165 rows × 77 columns</p>\n",
       "</div>"
      ],
      "text/plain": [
       "3    NaN  Year ISO Code             Countries Economic Freedom Summary Index  \\\n",
       "4    NaN  2021      AGO                Angola                           5.38   \n",
       "5    NaN  2021      ALB               Albania                           7.60   \n",
       "6    NaN  2021      ARE  United Arab Emirates                           7.35   \n",
       "7    NaN  2021      ARG             Argentina                           4.77   \n",
       "8    NaN  2021      ARM               Armenia                           7.58   \n",
       "..   ...   ...      ...                   ...                            ...   \n",
       "164  NaN  2021      VNM               Vietnam                           6.26   \n",
       "165  NaN  2021      YEM           Yemen, Rep.                           4.18   \n",
       "166  NaN  2021      ZAF          South Africa                           6.53   \n",
       "167  NaN  2021      ZMB                Zambia                           5.84   \n",
       "168  NaN  2021      ZWE              Zimbabwe                           3.81   \n",
       "\n",
       "3   Rank Quartile Government consumption   data Transfers and subsidies  ...  \\\n",
       "4    149        4                   7.18  15.59                    9.70  ...   \n",
       "5     31        1                   7.76  13.62                    7.13  ...   \n",
       "6     50        2                   3.83  26.99                    7.96  ...   \n",
       "7    158        4                   5.69  20.65                    5.54  ...   \n",
       "8     33        1                   6.47  17.99                    7.32  ...   \n",
       "..   ...      ...                    ...    ...                     ...  ...   \n",
       "164  106        3                   7.42  14.78                     NaN  ...   \n",
       "165  161        4                   8.75  10.26                    9.02  ...   \n",
       "166   94        3                   4.66  24.16                    7.87  ...   \n",
       "167  129        4                   1.68  34.28                    9.32  ...   \n",
       "168  164        4                   6.89  16.58                    8.50  ...   \n",
       "\n",
       "3   Regulatory Burden Bureacracy costs Impartial Public Administration  \\\n",
       "4                2.94             4.67                            4.90   \n",
       "5                5.65             6.22                            5.79   \n",
       "6                7.03             6.89                            7.21   \n",
       "7                2.71             5.11                            7.12   \n",
       "8                5.17             4.67                            6.37   \n",
       "..                ...              ...                             ...   \n",
       "164              3.98             5.56                            3.88   \n",
       "165              2.94             0.00                            0.62   \n",
       "166              3.36             4.22                            6.34   \n",
       "167              4.22             3.33                            4.39   \n",
       "168              2.41             2.67                            2.63   \n",
       "\n",
       "3   Tax compliance Business regulations Market openness Business Permits  \\\n",
       "4             4.64                 4.29            3.10             7.92   \n",
       "5             3.59                 5.31            6.81             5.62   \n",
       "6             9.35                 7.62            8.05            10.00   \n",
       "7             4.50                 4.86            6.14             5.73   \n",
       "8             6.02                 5.56            5.59             9.30   \n",
       "..             ...                  ...             ...              ...   \n",
       "164           4.79                 4.55            4.55             8.21   \n",
       "165           6.11                 2.42            2.07              NaN   \n",
       "166           7.57                 5.37            5.30             8.39   \n",
       "167           4.30                 4.06            2.44             7.85   \n",
       "168           4.89                 3.15            2.08             7.99   \n",
       "\n",
       "3   Distorton of the business environment  \\\n",
       "4                                    1.25   \n",
       "5                                    6.25   \n",
       "6                                    5.00   \n",
       "7                                    2.92   \n",
       "8                                    5.00   \n",
       "..                                    ...   \n",
       "164                                  3.96   \n",
       "165                                  5.00   \n",
       "166                                  3.75   \n",
       "167                                  0.19   \n",
       "168                                  0.00   \n",
       "\n",
       "3   Freedom to enter markets and compete Regulation  \n",
       "4                                   4.09       4.73  \n",
       "5                                   6.23       6.97  \n",
       "6                                   7.68       7.47  \n",
       "7                                   4.93       5.30  \n",
       "8                                   6.63       6.94  \n",
       "..                                   ...        ...  \n",
       "164                                 5.57       6.10  \n",
       "165                                 3.54       3.08  \n",
       "166                                 5.81       6.35  \n",
       "167                                 3.49       4.89  \n",
       "168                                 3.36       4.54  \n",
       "\n",
       "[165 rows x 77 columns]"
      ]
     },
     "execution_count": 4,
     "metadata": {},
     "output_type": "execute_result"
    }
   ],
   "source": [
    "# Clean ec_index\n",
    "ec_index.columns = ec_index.iloc[3] # Use 3rd row as a header\n",
    "ec_index = ec_index.iloc[4:]\n",
    "\n",
    "ec_index"
   ]
  },
  {
   "cell_type": "code",
   "execution_count": 5,
   "metadata": {},
   "outputs": [
    {
     "data": {
      "text/html": [
       "<div>\n",
       "<style scoped>\n",
       "    .dataframe tbody tr th:only-of-type {\n",
       "        vertical-align: middle;\n",
       "    }\n",
       "\n",
       "    .dataframe tbody tr th {\n",
       "        vertical-align: top;\n",
       "    }\n",
       "\n",
       "    .dataframe thead th {\n",
       "        text-align: right;\n",
       "    }\n",
       "</style>\n",
       "<table border=\"1\" class=\"dataframe\">\n",
       "  <thead>\n",
       "    <tr style=\"text-align: right;\">\n",
       "      <th>3</th>\n",
       "      <th>Country</th>\n",
       "      <th>FreedomIndex</th>\n",
       "    </tr>\n",
       "  </thead>\n",
       "  <tbody>\n",
       "    <tr>\n",
       "      <th>4</th>\n",
       "      <td>Angola</td>\n",
       "      <td>5.38</td>\n",
       "    </tr>\n",
       "    <tr>\n",
       "      <th>5</th>\n",
       "      <td>Albania</td>\n",
       "      <td>7.60</td>\n",
       "    </tr>\n",
       "    <tr>\n",
       "      <th>6</th>\n",
       "      <td>United Arab Emirates</td>\n",
       "      <td>7.35</td>\n",
       "    </tr>\n",
       "    <tr>\n",
       "      <th>7</th>\n",
       "      <td>Argentina</td>\n",
       "      <td>4.77</td>\n",
       "    </tr>\n",
       "    <tr>\n",
       "      <th>8</th>\n",
       "      <td>Armenia</td>\n",
       "      <td>7.58</td>\n",
       "    </tr>\n",
       "    <tr>\n",
       "      <th>...</th>\n",
       "      <td>...</td>\n",
       "      <td>...</td>\n",
       "    </tr>\n",
       "    <tr>\n",
       "      <th>164</th>\n",
       "      <td>Vietnam</td>\n",
       "      <td>6.26</td>\n",
       "    </tr>\n",
       "    <tr>\n",
       "      <th>165</th>\n",
       "      <td>Yemen, Rep.</td>\n",
       "      <td>4.18</td>\n",
       "    </tr>\n",
       "    <tr>\n",
       "      <th>166</th>\n",
       "      <td>South Africa</td>\n",
       "      <td>6.53</td>\n",
       "    </tr>\n",
       "    <tr>\n",
       "      <th>167</th>\n",
       "      <td>Zambia</td>\n",
       "      <td>5.84</td>\n",
       "    </tr>\n",
       "    <tr>\n",
       "      <th>168</th>\n",
       "      <td>Zimbabwe</td>\n",
       "      <td>3.81</td>\n",
       "    </tr>\n",
       "  </tbody>\n",
       "</table>\n",
       "<p>165 rows × 2 columns</p>\n",
       "</div>"
      ],
      "text/plain": [
       "3                 Country FreedomIndex\n",
       "4                  Angola         5.38\n",
       "5                 Albania         7.60\n",
       "6    United Arab Emirates         7.35\n",
       "7               Argentina         4.77\n",
       "8                 Armenia         7.58\n",
       "..                    ...          ...\n",
       "164               Vietnam         6.26\n",
       "165           Yemen, Rep.         4.18\n",
       "166          South Africa         6.53\n",
       "167                Zambia         5.84\n",
       "168              Zimbabwe         3.81\n",
       "\n",
       "[165 rows x 2 columns]"
      ]
     },
     "execution_count": 5,
     "metadata": {},
     "output_type": "execute_result"
    }
   ],
   "source": [
    "# Keep only the columns needed\n",
    "ec_index = ec_index [[ 'Countries', 'Economic Freedom Summary Index']]\n",
    "ec_index = ec_index.rename(columns={'Countries': 'Country', 'Economic Freedom Summary Index':'FreedomIndex' })\n",
    "\n",
    "ec_index"
   ]
  },
  {
   "cell_type": "markdown",
   "metadata": {},
   "source": [
    "<span style = 'font-size:20px;' > **Get data: GDP**"
   ]
  },
  {
   "cell_type": "code",
   "execution_count": 6,
   "metadata": {},
   "outputs": [
    {
     "data": {
      "text/html": [
       "<div>\n",
       "<style scoped>\n",
       "    .dataframe tbody tr th:only-of-type {\n",
       "        vertical-align: middle;\n",
       "    }\n",
       "\n",
       "    .dataframe tbody tr th {\n",
       "        vertical-align: top;\n",
       "    }\n",
       "\n",
       "    .dataframe thead th {\n",
       "        text-align: right;\n",
       "    }\n",
       "</style>\n",
       "<table border=\"1\" class=\"dataframe\">\n",
       "  <thead>\n",
       "    <tr style=\"text-align: right;\">\n",
       "      <th></th>\n",
       "      <th>Country</th>\n",
       "      <th>GDP</th>\n",
       "    </tr>\n",
       "  </thead>\n",
       "  <tbody>\n",
       "    <tr>\n",
       "      <th>0</th>\n",
       "      <td>Afghanistan</td>\n",
       "      <td>1673.96405892148</td>\n",
       "    </tr>\n",
       "    <tr>\n",
       "      <th>1</th>\n",
       "      <td>Albania</td>\n",
       "      <td>15532.7060558643</td>\n",
       "    </tr>\n",
       "    <tr>\n",
       "      <th>2</th>\n",
       "      <td>Algeria</td>\n",
       "      <td>12170.1937765589</td>\n",
       "    </tr>\n",
       "    <tr>\n",
       "      <th>3</th>\n",
       "      <td>American Samoa</td>\n",
       "      <td>..</td>\n",
       "    </tr>\n",
       "    <tr>\n",
       "      <th>4</th>\n",
       "      <td>Andorra</td>\n",
       "      <td>..</td>\n",
       "    </tr>\n",
       "    <tr>\n",
       "      <th>...</th>\n",
       "      <td>...</td>\n",
       "      <td>...</td>\n",
       "    </tr>\n",
       "    <tr>\n",
       "      <th>266</th>\n",
       "      <td>NaN</td>\n",
       "      <td>NaN</td>\n",
       "    </tr>\n",
       "    <tr>\n",
       "      <th>267</th>\n",
       "      <td>NaN</td>\n",
       "      <td>NaN</td>\n",
       "    </tr>\n",
       "    <tr>\n",
       "      <th>268</th>\n",
       "      <td>NaN</td>\n",
       "      <td>NaN</td>\n",
       "    </tr>\n",
       "    <tr>\n",
       "      <th>269</th>\n",
       "      <td>NaN</td>\n",
       "      <td>NaN</td>\n",
       "    </tr>\n",
       "    <tr>\n",
       "      <th>270</th>\n",
       "      <td>NaN</td>\n",
       "      <td>NaN</td>\n",
       "    </tr>\n",
       "  </tbody>\n",
       "</table>\n",
       "<p>271 rows × 2 columns</p>\n",
       "</div>"
      ],
      "text/plain": [
       "            Country               GDP\n",
       "0       Afghanistan  1673.96405892148\n",
       "1           Albania  15532.7060558643\n",
       "2           Algeria  12170.1937765589\n",
       "3    American Samoa                ..\n",
       "4           Andorra                ..\n",
       "..              ...               ...\n",
       "266             NaN               NaN\n",
       "267             NaN               NaN\n",
       "268             NaN               NaN\n",
       "269             NaN               NaN\n",
       "270             NaN               NaN\n",
       "\n",
       "[271 rows x 2 columns]"
      ]
     },
     "execution_count": 6,
     "metadata": {},
     "output_type": "execute_result"
    }
   ],
   "source": [
    "gdp = pd.read_csv('GDP2021.csv')\n",
    "gdp = gdp[ ['Country Name', '2021 [YR2021]']]\n",
    "gdp =gdp.rename(columns={'Country Name': 'Country', '2021 [YR2021]': 'GDP'})\n",
    "\n",
    "gdp"
   ]
  },
  {
   "cell_type": "markdown",
   "metadata": {},
   "source": [
    "<span style ='font-size:20px;' > **Merge data and Draw Scatter Plot**"
   ]
  },
  {
   "cell_type": "code",
   "execution_count": 7,
   "metadata": {},
   "outputs": [
    {
     "data": {
      "text/html": [
       "<div>\n",
       "<style scoped>\n",
       "    .dataframe tbody tr th:only-of-type {\n",
       "        vertical-align: middle;\n",
       "    }\n",
       "\n",
       "    .dataframe tbody tr th {\n",
       "        vertical-align: top;\n",
       "    }\n",
       "\n",
       "    .dataframe thead th {\n",
       "        text-align: right;\n",
       "    }\n",
       "</style>\n",
       "<table border=\"1\" class=\"dataframe\">\n",
       "  <thead>\n",
       "    <tr style=\"text-align: right;\">\n",
       "      <th></th>\n",
       "      <th>Country</th>\n",
       "      <th>GDP</th>\n",
       "      <th>FreedomIndex</th>\n",
       "    </tr>\n",
       "  </thead>\n",
       "  <tbody>\n",
       "    <tr>\n",
       "      <th>0</th>\n",
       "      <td>Albania</td>\n",
       "      <td>15532.7060558643</td>\n",
       "      <td>7.60</td>\n",
       "    </tr>\n",
       "    <tr>\n",
       "      <th>1</th>\n",
       "      <td>Algeria</td>\n",
       "      <td>12170.1937765589</td>\n",
       "      <td>4.82</td>\n",
       "    </tr>\n",
       "    <tr>\n",
       "      <th>2</th>\n",
       "      <td>Angola</td>\n",
       "      <td>6523.46361278759</td>\n",
       "      <td>5.38</td>\n",
       "    </tr>\n",
       "    <tr>\n",
       "      <th>3</th>\n",
       "      <td>Argentina</td>\n",
       "      <td>23754.3613898843</td>\n",
       "      <td>4.77</td>\n",
       "    </tr>\n",
       "    <tr>\n",
       "      <th>4</th>\n",
       "      <td>Armenia</td>\n",
       "      <td>15661.5113451936</td>\n",
       "      <td>7.58</td>\n",
       "    </tr>\n",
       "    <tr>\n",
       "      <th>...</th>\n",
       "      <td>...</td>\n",
       "      <td>...</td>\n",
       "      <td>...</td>\n",
       "    </tr>\n",
       "    <tr>\n",
       "      <th>157</th>\n",
       "      <td>Venezuela, RB</td>\n",
       "      <td>..</td>\n",
       "      <td>3.01</td>\n",
       "    </tr>\n",
       "    <tr>\n",
       "      <th>158</th>\n",
       "      <td>Vietnam</td>\n",
       "      <td>11727.7957329063</td>\n",
       "      <td>6.26</td>\n",
       "    </tr>\n",
       "    <tr>\n",
       "      <th>159</th>\n",
       "      <td>Yemen, Rep.</td>\n",
       "      <td>..</td>\n",
       "      <td>4.18</td>\n",
       "    </tr>\n",
       "    <tr>\n",
       "      <th>160</th>\n",
       "      <td>Zambia</td>\n",
       "      <td>3571.6613860876</td>\n",
       "      <td>5.84</td>\n",
       "    </tr>\n",
       "    <tr>\n",
       "      <th>161</th>\n",
       "      <td>Zimbabwe</td>\n",
       "      <td>2333.97363177486</td>\n",
       "      <td>3.81</td>\n",
       "    </tr>\n",
       "  </tbody>\n",
       "</table>\n",
       "<p>162 rows × 3 columns</p>\n",
       "</div>"
      ],
      "text/plain": [
       "           Country               GDP FreedomIndex\n",
       "0          Albania  15532.7060558643         7.60\n",
       "1          Algeria  12170.1937765589         4.82\n",
       "2           Angola  6523.46361278759         5.38\n",
       "3        Argentina  23754.3613898843         4.77\n",
       "4          Armenia  15661.5113451936         7.58\n",
       "..             ...               ...          ...\n",
       "157  Venezuela, RB                ..         3.01\n",
       "158        Vietnam  11727.7957329063         6.26\n",
       "159    Yemen, Rep.                ..         4.18\n",
       "160         Zambia   3571.6613860876         5.84\n",
       "161       Zimbabwe  2333.97363177486         3.81\n",
       "\n",
       "[162 rows x 3 columns]"
      ]
     },
     "execution_count": 7,
     "metadata": {},
     "output_type": "execute_result"
    }
   ],
   "source": [
    "# Merge data with GDQP and Freedom Index\n",
    "merged_data = pd.merge(gdp, ec_index, on='Country')\n",
    "merged_data "
   ]
  },
  {
   "cell_type": "code",
   "execution_count": 8,
   "metadata": {},
   "outputs": [
    {
     "data": {
      "text/html": [
       "<div>\n",
       "<style scoped>\n",
       "    .dataframe tbody tr th:only-of-type {\n",
       "        vertical-align: middle;\n",
       "    }\n",
       "\n",
       "    .dataframe tbody tr th {\n",
       "        vertical-align: top;\n",
       "    }\n",
       "\n",
       "    .dataframe thead th {\n",
       "        text-align: right;\n",
       "    }\n",
       "</style>\n",
       "<table border=\"1\" class=\"dataframe\">\n",
       "  <thead>\n",
       "    <tr style=\"text-align: right;\">\n",
       "      <th></th>\n",
       "      <th>Country</th>\n",
       "      <th>GDP</th>\n",
       "      <th>FreedomIndex</th>\n",
       "    </tr>\n",
       "  </thead>\n",
       "  <tbody>\n",
       "    <tr>\n",
       "      <th>0</th>\n",
       "      <td>Albania</td>\n",
       "      <td>15532.7060558643</td>\n",
       "      <td>7.60</td>\n",
       "    </tr>\n",
       "    <tr>\n",
       "      <th>1</th>\n",
       "      <td>Algeria</td>\n",
       "      <td>12170.1937765589</td>\n",
       "      <td>4.82</td>\n",
       "    </tr>\n",
       "    <tr>\n",
       "      <th>2</th>\n",
       "      <td>Angola</td>\n",
       "      <td>6523.46361278759</td>\n",
       "      <td>5.38</td>\n",
       "    </tr>\n",
       "    <tr>\n",
       "      <th>3</th>\n",
       "      <td>Argentina</td>\n",
       "      <td>23754.3613898843</td>\n",
       "      <td>4.77</td>\n",
       "    </tr>\n",
       "    <tr>\n",
       "      <th>4</th>\n",
       "      <td>Armenia</td>\n",
       "      <td>15661.5113451936</td>\n",
       "      <td>7.58</td>\n",
       "    </tr>\n",
       "    <tr>\n",
       "      <th>...</th>\n",
       "      <td>...</td>\n",
       "      <td>...</td>\n",
       "      <td>...</td>\n",
       "    </tr>\n",
       "    <tr>\n",
       "      <th>157</th>\n",
       "      <td>Venezuela, RB</td>\n",
       "      <td>..</td>\n",
       "      <td>3.01</td>\n",
       "    </tr>\n",
       "    <tr>\n",
       "      <th>158</th>\n",
       "      <td>Vietnam</td>\n",
       "      <td>11727.7957329063</td>\n",
       "      <td>6.26</td>\n",
       "    </tr>\n",
       "    <tr>\n",
       "      <th>159</th>\n",
       "      <td>Yemen, Rep.</td>\n",
       "      <td>..</td>\n",
       "      <td>4.18</td>\n",
       "    </tr>\n",
       "    <tr>\n",
       "      <th>160</th>\n",
       "      <td>Zambia</td>\n",
       "      <td>3571.6613860876</td>\n",
       "      <td>5.84</td>\n",
       "    </tr>\n",
       "    <tr>\n",
       "      <th>161</th>\n",
       "      <td>Zimbabwe</td>\n",
       "      <td>2333.97363177486</td>\n",
       "      <td>3.81</td>\n",
       "    </tr>\n",
       "  </tbody>\n",
       "</table>\n",
       "<p>162 rows × 3 columns</p>\n",
       "</div>"
      ],
      "text/plain": [
       "           Country               GDP FreedomIndex\n",
       "0          Albania  15532.7060558643         7.60\n",
       "1          Algeria  12170.1937765589         4.82\n",
       "2           Angola  6523.46361278759         5.38\n",
       "3        Argentina  23754.3613898843         4.77\n",
       "4          Armenia  15661.5113451936         7.58\n",
       "..             ...               ...          ...\n",
       "157  Venezuela, RB                ..         3.01\n",
       "158        Vietnam  11727.7957329063         6.26\n",
       "159    Yemen, Rep.                ..         4.18\n",
       "160         Zambia   3571.6613860876         5.84\n",
       "161       Zimbabwe  2333.97363177486         3.81\n",
       "\n",
       "[162 rows x 3 columns]"
      ]
     },
     "execution_count": 8,
     "metadata": {},
     "output_type": "execute_result"
    }
   ],
   "source": [
    "# Drop NA value\n",
    "merged_data.dropna(axis=0, how='any', subset=None, inplace=True)\n",
    "merged_data"
   ]
  },
  {
   "cell_type": "code",
   "execution_count": 9,
   "metadata": {},
   "outputs": [
    {
     "data": {
      "text/plain": [
       "Country          object\n",
       "GDP             float64\n",
       "FreedomIndex    float64\n",
       "dtype: object"
      ]
     },
     "execution_count": 9,
     "metadata": {},
     "output_type": "execute_result"
    }
   ],
   "source": [
    "merged_data['GDP'] = pd.to_numeric(merged_data.GDP,errors='coerce')\n",
    "merged_data['FreedomIndex'] = pd.to_numeric(merged_data['FreedomIndex'], errors='coerce')\n",
    "\n",
    "merged_data.dtypes"
   ]
  },
  {
   "cell_type": "code",
   "execution_count": 10,
   "metadata": {},
   "outputs": [
    {
     "data": {
      "image/png": "[encoded data removed]",
      "text/plain": [
       "<Figure size 640x480 with 1 Axes>"
      ]
     },
     "metadata": {},
     "output_type": "display_data"
    }
   ],
   "source": [
    "# Scatter plot\n",
    "plt.scatter(merged_data.FreedomIndex, merged_data.GDP)\n",
    "plt.show()"
   ]
  },
  {
   "cell_type": "markdown",
   "metadata": {},
   "source": [
    "<span style ='font-size:20px;' > **Adding Hover Visibility**"
   ]
  },
  {
   "cell_type": "code",
   "execution_count": 11,
   "metadata": {},
   "outputs": [],
   "source": [
    "# import libraries\n",
    "import plotly.graph_objs as go\n",
    "import plotly.express as px"
   ]
  },
  {
   "cell_type": "code",
   "execution_count": 12,
   "metadata": {},
   "outputs": [
    {
     "data": {
      "application/vnd.plotly.v1+json": {
       "config": {
        "plotlyServerURL": "https://plot.ly"
       },
       "data": [
        {
         "customdata": [
          [
           "Albania"
          ],
          [
           "Algeria"
          ],
          [
           "Angola"
          ],
          [
           "Argentina"
          ],
          [
           "Armenia"
          ],
          [
           "Australia"
          ],
          [
           "Austria"
          ],
          [
           "Azerbaijan"
          ],
          [
           "Bahamas, The"
          ],
          [
           "Bahrain"
          ],
          [
           "Bangladesh"
          ],
          [
           "Barbados"
          ],
          [
           "Belarus"
          ],
          [
           "Belgium"
          ],
          [
           "Belize"
          ],
          [
           "Benin"
          ],
          [
           "Bhutan"
          ],
          [
           "Bolivia"
          ],
          [
           "Bosnia and Herzegovina"
          ],
          [
           "Botswana"
          ],
          [
           "Brazil"
          ],
          [
           "Brunei Darussalam"
          ],
          [
           "Bulgaria"
          ],
          [
           "Burkina Faso"
          ],
          [
           "Burundi"
          ],
          [
           "Cabo Verde"
          ],
          [
           "Cambodia"
          ],
          [
           "Cameroon"
          ],
          [
           "Canada"
          ],
          [
           "Central African Republic"
          ],
          [
           "Chad"
          ],
          [
           "Chile"
          ],
          [
           "China"
          ],
          [
           "Colombia"
          ],
          [
           "Comoros"
          ],
          [
           "Congo, Dem. Rep."
          ],
          [
           "Congo, Rep."
          ],
          [
           "Costa Rica"
          ],
          [
           "Croatia"
          ],
          [
           "Cyprus"
          ],
          [
           "Czechia"
          ],
          [
           "Denmark"
          ],
          [
           "Djibouti"
          ],
          [
           "Dominican Republic"
          ],
          [
           "Ecuador"
          ],
          [
           "Egypt, Arab Rep."
          ],
          [
           "El Salvador"
          ],
          [
           "Estonia"
          ],
          [
           "Eswatini"
          ],
          [
           "Ethiopia"
          ],
          [
           "Fiji"
          ],
          [
           "Finland"
          ],
          [
           "France"
          ],
          [
           "Gabon"
          ],
          [
           "Gambia, The"
          ],
          [
           "Georgia"
          ],
          [
           "Germany"
          ],
          [
           "Ghana"
          ],
          [
           "Greece"
          ],
          [
           "Guatemala"
          ],
          [
           "Guinea"
          ],
          [
           "Guinea-Bissau"
          ],
          [
           "Guyana"
          ],
          [
           "Haiti"
          ],
          [
           "Honduras"
          ],
          [
           "Hong Kong SAR, China"
          ],
          [
           "Hungary"
          ],
          [
           "Iceland"
          ],
          [
           "India"
          ],
          [
           "Indonesia"
          ],
          [
           "Iran, Islamic Rep."
          ],
          [
           "Iraq"
          ],
          [
           "Ireland"
          ],
          [
           "Israel"
          ],
          [
           "Italy"
          ],
          [
           "Jamaica"
          ],
          [
           "Japan"
          ],
          [
           "Jordan"
          ],
          [
           "Kazakhstan"
          ],
          [
           "Kenya"
          ],
          [
           "Korea, Rep."
          ],
          [
           "Kuwait"
          ],
          [
           "Kyrgyz Republic"
          ],
          [
           "Lao PDR"
          ],
          [
           "Latvia"
          ],
          [
           "Lebanon"
          ],
          [
           "Lesotho"
          ],
          [
           "Liberia"
          ],
          [
           "Libya"
          ],
          [
           "Lithuania"
          ],
          [
           "Luxembourg"
          ],
          [
           "Madagascar"
          ],
          [
           "Malawi"
          ],
          [
           "Malaysia"
          ],
          [
           "Mali"
          ],
          [
           "Malta"
          ],
          [
           "Mauritania"
          ],
          [
           "Mauritius"
          ],
          [
           "Mexico"
          ],
          [
           "Moldova"
          ],
          [
           "Mongolia"
          ],
          [
           "Montenegro"
          ],
          [
           "Morocco"
          ],
          [
           "Mozambique"
          ],
          [
           "Myanmar"
          ],
          [
           "Namibia"
          ],
          [
           "Nepal"
          ],
          [
           "Netherlands"
          ],
          [
           "New Zealand"
          ],
          [
           "Nicaragua"
          ],
          [
           "Niger"
          ],
          [
           "Nigeria"
          ],
          [
           "North Macedonia"
          ],
          [
           "Norway"
          ],
          [
           "Oman"
          ],
          [
           "Pakistan"
          ],
          [
           "Panama"
          ],
          [
           "Papua New Guinea"
          ],
          [
           "Paraguay"
          ],
          [
           "Peru"
          ],
          [
           "Philippines"
          ],
          [
           "Poland"
          ],
          [
           "Portugal"
          ],
          [
           "Qatar"
          ],
          [
           "Romania"
          ],
          [
           "Russian Federation"
          ],
          [
           "Rwanda"
          ],
          [
           "Saudi Arabia"
          ],
          [
           "Senegal"
          ],
          [
           "Serbia"
          ],
          [
           "Seychelles"
          ],
          [
           "Sierra Leone"
          ],
          [
           "Singapore"
          ],
          [
           "Slovak Republic"
          ],
          [
           "Slovenia"
          ],
          [
           "Somalia"
          ],
          [
           "South Africa"
          ],
          [
           "Spain"
          ],
          [
           "Sri Lanka"
          ],
          [
           "Sudan"
          ],
          [
           "Suriname"
          ],
          [
           "Sweden"
          ],
          [
           "Switzerland"
          ],
          [
           "Syrian Arab Republic"
          ],
          [
           "Tajikistan"
          ],
          [
           "Tanzania"
          ],
          [
           "Thailand"
          ],
          [
           "Timor-Leste"
          ],
          [
           "Togo"
          ],
          [
           "Trinidad and Tobago"
          ],
          [
           "Tunisia"
          ],
          [
           "Uganda"
          ],
          [
           "Ukraine"
          ],
          [
           "United Arab Emirates"
          ],
          [
           "United Kingdom"
          ],
          [
           "United States"
          ],
          [
           "Uruguay"
          ],
          [
           "Venezuela, RB"
          ],
          [
           "Vietnam"
          ],
          [
           "Yemen, Rep."
          ],
          [
           "Zambia"
          ],
          [
           "Zimbabwe"
          ]
         ],
         "hovertemplate": "FreedomIndex=%{x}<br>GDP=%{y}<br>Country=%{customdata[0]}<extra></extra>",
         "legendgroup": "",
         "marker": {
          "color": "#636efa",
          "symbol": "circle"
         },
         "mode": "markers",
         "name": "",
         "orientation": "v",
         "showlegend": false,
         "type": "scatter",
         "x": [
          7.6,
          4.82,
          5.38,
          4.77,
          7.58,
          8.05,
          7.69,
          5.99,
          6.55,
          7.44,
          5.81,
          6.94,
          6.23,
          7.43,
          5.91,
          6.41,
          6.62,
          6.08,
          6.66,
          6.84,
          6.58,
          7.12,
          7.46,
          6.14,
          5.4,
          7.38,
          6.82,
          5.72,
          7.98,
          5.01,
          5.31,
          7.66,
          6.18,
          6.6,
          5.63,
          5.33,
          4.85,
          7.76,
          7.25,
          7.57,
          7.81,
          8.1,
          5.79,
          7.3,
          6.46,
          5.47,
          7.11,
          7.95,
          5.33,
          5.44,
          6.32,
          7.81,
          7.4,
          5.41,
          7.11,
          7.71,
          7.73,
          6.41,
          6.94,
          7.5,
          5.62,
          5.53,
          5.43,
          6.15,
          6.97,
          8.55,
          7.36,
          7.93,
          6.62,
          6.93,
          4.53,
          5.49,
          8.11,
          7.57,
          7.25,
          7.46,
          7.79,
          7.3,
          7.13,
          6.82,
          7.47,
          6.63,
          6.88,
          6.24,
          7.71,
          5.15,
          5.95,
          5.82,
          4.65,
          7.95,
          7.91,
          5.92,
          5.87,
          7.19,
          5.8,
          7.73,
          5.78,
          7.82,
          7.02,
          7.18,
          7.04,
          7.59,
          6.42,
          6.03,
          5.33,
          6.16,
          6.3,
          7.76,
          8.43,
          6.52,
          5.8,
          6.67,
          7.06,
          7.67,
          6.58,
          5.98,
          7.51,
          6.05,
          7.02,
          7.52,
          7.01,
          7.12,
          7.54,
          6.58,
          7.7,
          6.28,
          6.77,
          6.64,
          6.2,
          6.85,
          7.12,
          5.91,
          8.56,
          7.49,
          7.23,
          5.66,
          6.53,
          7.52,
          6.13,
          3.98,
          5.52,
          7.81,
          8.47,
          3.9,
          6.38,
          6.27,
          7.07,
          5.82,
          6.24,
          6.63,
          6.02,
          6.64,
          6.17,
          7.35,
          8.01,
          8.14,
          7.06,
          3.01,
          6.26,
          4.18,
          5.84,
          3.81
         ],
         "xaxis": "x",
         "y": [
          15532.7060558643,
          12170.1937765589,
          6523.46361278759,
          23754.3613898843,
          15661.5113451936,
          55947.0522280521,
          59962.8270521703,
          15927.2101484962,
          33162.2654340922,
          54901.5126284982,
          6522.5558405934,
          15177.8497084244,
          21928.6857574651,
          58840.7022747126,
          9668.76628862162,
          3665.19402835522,
          12036.3640775011,
          8885.24133402223,
          17705.8069770753,
          16449.3462295479,
          16260.0987486322,
          66347.6581403339,
          28113.1172301145,
          2405.30611833427,
          787.942778733935,
          7274.94057605007,
          4805.08074293457,
          4083.30771345032,
          53023.4205562458,
          924.151424277887,
          1572.97362801457,
          28337.0732119833,
          19484.3080865205,
          17105.0024667059,
          3562.54447917905,
          1184.72048576199,
          3569.01749044237,
          22643.4950121914,
          34721.872681453,
          44405.0078125,
          45630.0378065014,
          64883.9020335877,
          5420.92776468019,
          20553.0995075054,
          11772.5289641273,
          13440.6194116398,
          10142.5509830133,
          43476.8542259429,
          9773.14067000756,
          2559.09732379261,
          11430.948405242,
          54706.4459747236,
          51363.7203822404,
          15243.7181936578,
          2291.40428610172,
          17088.8810512761,
          58798.9373528813,
          5997.55766541617,
          31294.800289497,
          9850.90466668914,
          2913.50948387609,
          2020.85486582107,
          24193.5275209981,
          3179.25795649193,
          6148.66446431005,
          66248.8127682345,
          36773.3140344664,
          58195.3630924925,
          7367.99466511595,
          13086.3924176102,
          16557.0461822083,
          9695.62646494157,
          106570.398435242,
          44064.5638015519,
          46705.0179059813,
          10601.1738216676,
          42833.8513340851,
          10155.424986525,
          28811.8788315391,
          5236.61216265411,
          46875.2909815757,
          50375.3815648966,
          5444.22629913301,
          8658.80903919239,
          35018.4521137124,
          14330.5156325649,
          2530.06716498104,
          1570.47437952052,
          22371.380781578,
          43796.7840052168,
          131511.020155033,
          1635.74014819588,
          1645.40371503016,
          29057.5405861015,
          2340.01919940457,
          49974.7751511882,
          5856.62863592978,
          23064.3457398523,
          19578.4038080309,
          15009.606575846,
          12875.6253825157,
          23440.4804729806,
          8892.1044921875,
          1353.68608297211,
          4449.83389810341,
          10161.2865778808,
          4252.37517505968,
          63369.0273797153,
          48443.8730095024,
          6280.90768457653,
          1309.33792562578,
          5431.91921133766,
          18344.3100455898,
          81866.7951850507,
          37842.8397570061,
          5773.45091707351,
          33563.6606097271,
          4049.90230492214,
          15091.3251038992,
          13830.5702579441,
          8933.13376643677,
          38134.8333890046,
          36638.0189705342,
          102469.96757393,
          36277.324202054,
          34043.3046875,
          2469.21199073229,
          51406.9763670895,
          3874.94515792486,
          21647.329314934,
          30503.2866082805,
          1781.93034315783,
          118887.822065854,
          34528.6596259314,
          43974.217350566,
          1254.34066361614,
          14689.1537493425,
          40662.0098784744,
          14621.5163394895,
          4083.97509765625,
          16294.4893681793,
          60126.8165037418,
          75979.7662211492,
          null,
          4315.03220422043,
          2850.61279296875,
          18855.0232726769,
          5553.05439354295,
          2357.67771676543,
          25420.5249849412,
          11471.4570183611,
          2478.82410137336,
          14289.0400390625,
          76948.3274962852,
          50056.2662910326,
          70219.472454115,
          25663.4106069348,
          null,
          11727.7957329063,
          null,
          3571.6613860876,
          2333.97363177486
         ],
         "yaxis": "y"
        }
       ],
       "layout": {
        "legend": {
         "tracegroupgap": 0
        },
        "margin": {
         "t": 60
        },
        "template": {
         "data": {
          "bar": [
           {
            "error_x": {
             "color": "#2a3f5f"
            },
            "error_y": {
             "color": "#2a3f5f"
            },
            "marker": {
             "line": {
              "color": "#E5ECF6",
              "width": 0.5
             },
             "pattern": {
              "fillmode": "overlay",
              "size": 10,
              "solidity": 0.2
             }
            },
            "type": "bar"
           }
          ],
          "barpolar": [
           {
            "marker": {
             "line": {
              "color": "#E5ECF6",
              "width": 0.5
             },
             "pattern": {
              "fillmode": "overlay",
              "size": 10,
              "solidity": 0.2
             }
            },
            "type": "barpolar"
           }
          ],
          "carpet": [
           {
            "aaxis": {
             "endlinecolor": "#2a3f5f",
             "gridcolor": "white",
             "linecolor": "white",
             "minorgridcolor": "white",
             "startlinecolor": "#2a3f5f"
            },
            "baxis": {
             "endlinecolor": "#2a3f5f",
             "gridcolor": "white",
             "linecolor": "white",
             "minorgridcolor": "white",
             "startlinecolor": "#2a3f5f"
            },
            "type": "carpet"
           }
          ],
          "choropleth": [
           {
            "colorbar": {
             "outlinewidth": 0,
             "ticks": ""
            },
            "type": "choropleth"
           }
          ],
          "contour": [
           {
            "colorbar": {
             "outlinewidth": 0,
             "ticks": ""
            },
            "colorscale": [
             [
              0,
              "#0d0887"
             ],
             [
              0.1111111111111111,
              "#46039f"
             ],
             [
              0.2222222222222222,
              "#7201a8"
             ],
             [
              0.3333333333333333,
              "#9c179e"
             ],
             [
              0.4444444444444444,
              "#bd3786"
             ],
             [
              0.5555555555555556,
              "#d8576b"
             ],
             [
              0.6666666666666666,
              "#ed7953"
             ],
             [
              0.7777777777777778,
              "#fb9f3a"
             ],
             [
              0.8888888888888888,
              "#fdca26"
             ],
             [
              1,
              "#f0f921"
             ]
            ],
            "type": "contour"
           }
          ],
          "contourcarpet": [
           {
            "colorbar": {
             "outlinewidth": 0,
             "ticks": ""
            },
            "type": "contourcarpet"
           }
          ],
          "heatmap": [
           {
            "colorbar": {
             "outlinewidth": 0,
             "ticks": ""
            },
            "colorscale": [
             [
              0,
              "#0d0887"
             ],
             [
              0.1111111111111111,
              "#46039f"
             ],
             [
              0.2222222222222222,
              "#7201a8"
             ],
             [
              0.3333333333333333,
              "#9c179e"
             ],
             [
              0.4444444444444444,
              "#bd3786"
             ],
             [
              0.5555555555555556,
              "#d8576b"
             ],
             [
              0.6666666666666666,
              "#ed7953"
             ],
             [
              0.7777777777777778,
              "#fb9f3a"
             ],
             [
              0.8888888888888888,
              "#fdca26"
             ],
             [
              1,
              "#f0f921"
             ]
            ],
            "type": "heatmap"
           }
          ],
          "heatmapgl": [
           {
            "colorbar": {
             "outlinewidth": 0,
             "ticks": ""
            },
            "colorscale": [
             [
              0,
              "#0d0887"
             ],
             [
              0.1111111111111111,
              "#46039f"
             ],
             [
              0.2222222222222222,
              "#7201a8"
             ],
             [
              0.3333333333333333,
              "#9c179e"
             ],
             [
              0.4444444444444444,
              "#bd3786"
             ],
             [
              0.5555555555555556,
              "#d8576b"
             ],
             [
              0.6666666666666666,
              "#ed7953"
             ],
             [
              0.7777777777777778,
              "#fb9f3a"
             ],
             [
              0.8888888888888888,
              "#fdca26"
             ],
             [
              1,
              "#f0f921"
             ]
            ],
            "type": "heatmapgl"
           }
          ],
          "histogram": [
           {
            "marker": {
             "pattern": {
              "fillmode": "overlay",
              "size": 10,
              "solidity": 0.2
             }
            },
            "type": "histogram"
           }
          ],
          "histogram2d": [
           {
            "colorbar": {
             "outlinewidth": 0,
             "ticks": ""
            },
            "colorscale": [
             [
              0,
              "#0d0887"
             ],
             [
              0.1111111111111111,
              "#46039f"
             ],
             [
              0.2222222222222222,
              "#7201a8"
             ],
             [
              0.3333333333333333,
              "#9c179e"
             ],
             [
              0.4444444444444444,
              "#bd3786"
             ],
             [
              0.5555555555555556,
              "#d8576b"
             ],
             [
              0.6666666666666666,
              "#ed7953"
             ],
             [
              0.7777777777777778,
              "#fb9f3a"
             ],
             [
              0.8888888888888888,
              "#fdca26"
             ],
             [
              1,
              "#f0f921"
             ]
            ],
            "type": "histogram2d"
           }
          ],
          "histogram2dcontour": [
           {
            "colorbar": {
             "outlinewidth": 0,
             "ticks": ""
            },
            "colorscale": [
             [
              0,
              "#0d0887"
             ],
             [
              0.1111111111111111,
              "#46039f"
             ],
             [
              0.2222222222222222,
              "#7201a8"
             ],
             [
              0.3333333333333333,
              "#9c179e"
             ],
             [
              0.4444444444444444,
              "#bd3786"
             ],
             [
              0.5555555555555556,
              "#d8576b"
             ],
             [
              0.6666666666666666,
              "#ed7953"
             ],
             [
              0.7777777777777778,
              "#fb9f3a"
             ],
             [
              0.8888888888888888,
              "#fdca26"
             ],
             [
              1,
              "#f0f921"
             ]
            ],
            "type": "histogram2dcontour"
           }
          ],
          "mesh3d": [
           {
            "colorbar": {
             "outlinewidth": 0,
             "ticks": ""
            },
            "type": "mesh3d"
           }
          ],
          "parcoords": [
           {
            "line": {
             "colorbar": {
              "outlinewidth": 0,
              "ticks": ""
             }
            },
            "type": "parcoords"
           }
          ],
          "pie": [
           {
            "automargin": true,
            "type": "pie"
           }
          ],
          "scatter": [
           {
            "fillpattern": {
             "fillmode": "overlay",
             "size": 10,
             "solidity": 0.2
            },
            "type": "scatter"
           }
          ],
          "scatter3d": [
           {
            "line": {
             "colorbar": {
              "outlinewidth": 0,
              "ticks": ""
             }
            },
            "marker": {
             "colorbar": {
              "outlinewidth": 0,
              "ticks": ""
             }
            },
            "type": "scatter3d"
           }
          ],
          "scattercarpet": [
           {
            "marker": {
             "colorbar": {
              "outlinewidth": 0,
              "ticks": ""
             }
            },
            "type": "scattercarpet"
           }
          ],
          "scattergeo": [
           {
            "marker": {
             "colorbar": {
              "outlinewidth": 0,
              "ticks": ""
             }
            },
            "type": "scattergeo"
           }
          ],
          "scattergl": [
           {
            "marker": {
             "colorbar": {
              "outlinewidth": 0,
              "ticks": ""
             }
            },
            "type": "scattergl"
           }
          ],
          "scattermapbox": [
           {
            "marker": {
             "colorbar": {
              "outlinewidth": 0,
              "ticks": ""
             }
            },
            "type": "scattermapbox"
           }
          ],
          "scatterpolar": [
           {
            "marker": {
             "colorbar": {
              "outlinewidth": 0,
              "ticks": ""
             }
            },
            "type": "scatterpolar"
           }
          ],
          "scatterpolargl": [
           {
            "marker": {
             "colorbar": {
              "outlinewidth": 0,
              "ticks": ""
             }
            },
            "type": "scatterpolargl"
           }
          ],
          "scatterternary": [
           {
            "marker": {
             "colorbar": {
              "outlinewidth": 0,
              "ticks": ""
             }
            },
            "type": "scatterternary"
           }
          ],
          "surface": [
           {
            "colorbar": {
             "outlinewidth": 0,
             "ticks": ""
            },
            "colorscale": [
             [
              0,
              "#0d0887"
             ],
             [
              0.1111111111111111,
              "#46039f"
             ],
             [
              0.2222222222222222,
              "#7201a8"
             ],
             [
              0.3333333333333333,
              "#9c179e"
             ],
             [
              0.4444444444444444,
              "#bd3786"
             ],
             [
              0.5555555555555556,
              "#d8576b"
             ],
             [
              0.6666666666666666,
              "#ed7953"
             ],
             [
              0.7777777777777778,
              "#fb9f3a"
             ],
             [
              0.8888888888888888,
              "#fdca26"
             ],
             [
              1,
              "#f0f921"
             ]
            ],
            "type": "surface"
           }
          ],
          "table": [
           {
            "cells": {
             "fill": {
              "color": "#EBF0F8"
             },
             "line": {
              "color": "white"
             }
            },
            "header": {
             "fill": {
              "color": "#C8D4E3"
             },
             "line": {
              "color": "white"
             }
            },
            "type": "table"
           }
          ]
         },
         "layout": {
          "annotationdefaults": {
           "arrowcolor": "#2a3f5f",
           "arrowhead": 0,
           "arrowwidth": 1
          },
          "autotypenumbers": "strict",
          "coloraxis": {
           "colorbar": {
            "outlinewidth": 0,
            "ticks": ""
           }
          },
          "colorscale": {
           "diverging": [
            [
             0,
             "#8e0152"
            ],
            [
             0.1,
             "#c51b7d"
            ],
            [
             0.2,
             "#de77ae"
            ],
            [
             0.3,
             "#f1b6da"
            ],
            [
             0.4,
             "#fde0ef"
            ],
            [
             0.5,
             "#f7f7f7"
            ],
            [
             0.6,
             "#e6f5d0"
            ],
            [
             0.7,
             "#b8e186"
            ],
            [
             0.8,
             "#7fbc41"
            ],
            [
             0.9,
             "#4d9221"
            ],
            [
             1,
             "#276419"
            ]
           ],
           "sequential": [
            [
             0,
             "#0d0887"
            ],
            [
             0.1111111111111111,
             "#46039f"
            ],
            [
             0.2222222222222222,
             "#7201a8"
            ],
            [
             0.3333333333333333,
             "#9c179e"
            ],
            [
             0.4444444444444444,
             "#bd3786"
            ],
            [
             0.5555555555555556,
             "#d8576b"
            ],
            [
             0.6666666666666666,
             "#ed7953"
            ],
            [
             0.7777777777777778,
             "#fb9f3a"
            ],
            [
             0.8888888888888888,
             "#fdca26"
            ],
            [
             1,
             "#f0f921"
            ]
           ],
           "sequentialminus": [
            [
             0,
             "#0d0887"
            ],
            [
             0.1111111111111111,
             "#46039f"
            ],
            [
             0.2222222222222222,
             "#7201a8"
            ],
            [
             0.3333333333333333,
             "#9c179e"
            ],
            [
             0.4444444444444444,
             "#bd3786"
            ],
            [
             0.5555555555555556,
             "#d8576b"
            ],
            [
             0.6666666666666666,
             "#ed7953"
            ],
            [
             0.7777777777777778,
             "#fb9f3a"
            ],
            [
             0.8888888888888888,
             "#fdca26"
            ],
            [
             1,
             "#f0f921"
            ]
           ]
          },
          "colorway": [
           "#636efa",
           "#EF553B",
           "#00cc96",
           "#ab63fa",
           "#FFA15A",
           "#19d3f3",
           "#FF6692",
           "#B6E880",
           "#FF97FF",
           "#FECB52"
          ],
          "font": {
           "color": "#2a3f5f"
          },
          "geo": {
           "bgcolor": "white",
           "lakecolor": "white",
           "landcolor": "#E5ECF6",
           "showlakes": true,
           "showland": true,
           "subunitcolor": "white"
          },
          "hoverlabel": {
           "align": "left"
          },
          "hovermode": "closest",
          "mapbox": {
           "style": "light"
          },
          "paper_bgcolor": "white",
          "plot_bgcolor": "#E5ECF6",
          "polar": {
           "angularaxis": {
            "gridcolor": "white",
            "linecolor": "white",
            "ticks": ""
           },
           "bgcolor": "#E5ECF6",
           "radialaxis": {
            "gridcolor": "white",
            "linecolor": "white",
            "ticks": ""
           }
          },
          "scene": {
           "xaxis": {
            "backgroundcolor": "#E5ECF6",
            "gridcolor": "white",
            "gridwidth": 2,
            "linecolor": "white",
            "showbackground": true,
            "ticks": "",
            "zerolinecolor": "white"
           },
           "yaxis": {
            "backgroundcolor": "#E5ECF6",
            "gridcolor": "white",
            "gridwidth": 2,
            "linecolor": "white",
            "showbackground": true,
            "ticks": "",
            "zerolinecolor": "white"
           },
           "zaxis": {
            "backgroundcolor": "#E5ECF6",
            "gridcolor": "white",
            "gridwidth": 2,
            "linecolor": "white",
            "showbackground": true,
            "ticks": "",
            "zerolinecolor": "white"
           }
          },
          "shapedefaults": {
           "line": {
            "color": "#2a3f5f"
           }
          },
          "ternary": {
           "aaxis": {
            "gridcolor": "white",
            "linecolor": "white",
            "ticks": ""
           },
           "baxis": {
            "gridcolor": "white",
            "linecolor": "white",
            "ticks": ""
           },
           "bgcolor": "#E5ECF6",
           "caxis": {
            "gridcolor": "white",
            "linecolor": "white",
            "ticks": ""
           }
          },
          "title": {
           "x": 0.05
          },
          "xaxis": {
           "automargin": true,
           "gridcolor": "white",
           "linecolor": "white",
           "ticks": "",
           "title": {
            "standoff": 15
           },
           "zerolinecolor": "white",
           "zerolinewidth": 2
          },
          "yaxis": {
           "automargin": true,
           "gridcolor": "white",
           "linecolor": "white",
           "ticks": "",
           "title": {
            "standoff": 15
           },
           "zerolinecolor": "white",
           "zerolinewidth": 2
          }
         }
        },
        "xaxis": {
         "anchor": "y",
         "domain": [
          0,
          1
         ],
         "title": {
          "text": "FreedomIndex"
         },
         "type": "log"
        },
        "yaxis": {
         "anchor": "x",
         "domain": [
          0,
          1
         ],
         "title": {
          "text": "GDP"
         }
        }
       }
      }
     },
     "metadata": {},
     "output_type": "display_data"
    }
   ],
   "source": [
    "fig = px.scatter(merged_data, x='FreedomIndex', y='GDP', log_x= True,\n",
    "                 hover_data=['Country', 'FreedomIndex'])\n",
    "fig.show()"
   ]
  },
  {
   "cell_type": "markdown",
   "metadata": {},
   "source": [
    "<span style ='font-size:20px;' > **Adding a Regression Line**"
   ]
  },
  {
   "cell_type": "code",
   "execution_count": 14,
   "metadata": {},
   "outputs": [
    {
     "ename": "ModuleNotFoundError",
     "evalue": "No module named 'statsmodels'",
     "output_type": "error",
     "traceback": [
      "\u001b[0;31m---------------------------------------------------------------------------\u001b[0m",
      "\u001b[0;31mModuleNotFoundError\u001b[0m                       Traceback (most recent call last)",
      "\u001b[1;32m/Users/ngocquyenquyennguyen/Library/CloudStorage/OneDrive-UniversityofNebraska-Lincoln/Python/Data Analytics with Python/Property right & Econ Dev.ipynb Cell 18\u001b[0m line \u001b[0;36m1\n\u001b[0;32m----> <a href='vscode-notebook-cell:/Users/ngocquyenquyennguyen/Library/CloudStorage/OneDrive-UniversityofNebraska-Lincoln/Python/Data%20Analytics%20with%20Python/Property%20right%20%26%20Econ%20Dev.ipynb#X32sZmlsZQ%3D%3D?line=0'>1</a>\u001b[0m \u001b[39mimport\u001b[39;00m \u001b[39mstatsmodels\u001b[39;00m\u001b[39m.\u001b[39;00m\u001b[39mapi\u001b[39;00m \u001b[39mas\u001b[39;00m \u001b[39msm\u001b[39;00m\n",
      "\u001b[0;31mModuleNotFoundError\u001b[0m: No module named 'statsmodels'"
     ]
    }
   ],
   "source": [
    "import statsmodels.api as sm"
   ]
  },
  {
   "cell_type": "code",
   "execution_count": 13,
   "metadata": {},
   "outputs": [
    {
     "ename": "ModuleNotFoundError",
     "evalue": "No module named 'statsmodels'",
     "output_type": "error",
     "traceback": [
      "\u001b[0;31m---------------------------------------------------------------------------\u001b[0m",
      "\u001b[0;31mModuleNotFoundError\u001b[0m                       Traceback (most recent call last)",
      "\u001b[1;32m/Users/ngocquyenquyennguyen/Library/CloudStorage/OneDrive-UniversityofNebraska-Lincoln/Python/Data Analytics with Python/Property right & Econ Dev.ipynb Cell 18\u001b[0m line \u001b[0;36m1\n\u001b[0;32m----> <a href='vscode-notebook-cell:/Users/ngocquyenquyennguyen/Library/CloudStorage/OneDrive-UniversityofNebraska-Lincoln/Python/Data%20Analytics%20with%20Python/Property%20right%20%26%20Econ%20Dev.ipynb#X25sZmlsZQ%3D%3D?line=0'>1</a>\u001b[0m fig \u001b[39m=\u001b[39m px\u001b[39m.\u001b[39;49mscatter(merged_data, x\u001b[39m=\u001b[39;49m\u001b[39m'\u001b[39;49m\u001b[39mFreedomIndex\u001b[39;49m\u001b[39m'\u001b[39;49m, y\u001b[39m=\u001b[39;49m\u001b[39m'\u001b[39;49m\u001b[39mGDP\u001b[39;49m\u001b[39m'\u001b[39;49m,\n\u001b[1;32m      <a href='vscode-notebook-cell:/Users/ngocquyenquyennguyen/Library/CloudStorage/OneDrive-UniversityofNebraska-Lincoln/Python/Data%20Analytics%20with%20Python/Property%20right%20%26%20Econ%20Dev.ipynb#X25sZmlsZQ%3D%3D?line=1'>2</a>\u001b[0m                  trendline\u001b[39m=\u001b[39;49m \u001b[39m\"\u001b[39;49m\u001b[39mols\u001b[39;49m\u001b[39m\"\u001b[39;49m,\n\u001b[1;32m      <a href='vscode-notebook-cell:/Users/ngocquyenquyennguyen/Library/CloudStorage/OneDrive-UniversityofNebraska-Lincoln/Python/Data%20Analytics%20with%20Python/Property%20right%20%26%20Econ%20Dev.ipynb#X25sZmlsZQ%3D%3D?line=2'>3</a>\u001b[0m                  log_x \u001b[39m=\u001b[39;49m \u001b[39mTrue\u001b[39;49;00m,\n\u001b[1;32m      <a href='vscode-notebook-cell:/Users/ngocquyenquyennguyen/Library/CloudStorage/OneDrive-UniversityofNebraska-Lincoln/Python/Data%20Analytics%20with%20Python/Property%20right%20%26%20Econ%20Dev.ipynb#X25sZmlsZQ%3D%3D?line=3'>4</a>\u001b[0m                  hover_data\u001b[39m=\u001b[39;49m[\u001b[39m\"\u001b[39;49m\u001b[39mCountry\u001b[39;49m\u001b[39m\"\u001b[39;49m, \u001b[39m\"\u001b[39;49m\u001b[39mFreedomIndex\u001b[39;49m\u001b[39m\"\u001b[39;49m])\n\u001b[1;32m      <a href='vscode-notebook-cell:/Users/ngocquyenquyennguyen/Library/CloudStorage/OneDrive-UniversityofNebraska-Lincoln/Python/Data%20Analytics%20with%20Python/Property%20right%20%26%20Econ%20Dev.ipynb#X25sZmlsZQ%3D%3D?line=4'>5</a>\u001b[0m fig\u001b[39m.\u001b[39mshow()\n",
      "File \u001b[0;32m/Library/Frameworks/Python.framework/Versions/3.11/lib/python3.11/site-packages/plotly/express/_chart_types.py:66\u001b[0m, in \u001b[0;36mscatter\u001b[0;34m(data_frame, x, y, color, symbol, size, hover_name, hover_data, custom_data, text, facet_row, facet_col, facet_col_wrap, facet_row_spacing, facet_col_spacing, error_x, error_x_minus, error_y, error_y_minus, animation_frame, animation_group, category_orders, labels, orientation, color_discrete_sequence, color_discrete_map, color_continuous_scale, range_color, color_continuous_midpoint, symbol_sequence, symbol_map, opacity, size_max, marginal_x, marginal_y, trendline, trendline_options, trendline_color_override, trendline_scope, log_x, log_y, range_x, range_y, render_mode, title, template, width, height)\u001b[0m\n\u001b[1;32m     12\u001b[0m \u001b[39mdef\u001b[39;00m \u001b[39mscatter\u001b[39m(\n\u001b[1;32m     13\u001b[0m     data_frame\u001b[39m=\u001b[39m\u001b[39mNone\u001b[39;00m,\n\u001b[1;32m     14\u001b[0m     x\u001b[39m=\u001b[39m\u001b[39mNone\u001b[39;00m,\n\u001b[0;32m   (...)\u001b[0m\n\u001b[1;32m     60\u001b[0m     height\u001b[39m=\u001b[39m\u001b[39mNone\u001b[39;00m,\n\u001b[1;32m     61\u001b[0m ) \u001b[39m-\u001b[39m\u001b[39m>\u001b[39m go\u001b[39m.\u001b[39mFigure:\n\u001b[1;32m     62\u001b[0m \u001b[39m    \u001b[39m\u001b[39m\"\"\"\u001b[39;00m\n\u001b[1;32m     63\u001b[0m \u001b[39m    In a scatter plot, each row of `data_frame` is represented by a symbol\u001b[39;00m\n\u001b[1;32m     64\u001b[0m \u001b[39m    mark in 2D space.\u001b[39;00m\n\u001b[1;32m     65\u001b[0m \u001b[39m    \"\"\"\u001b[39;00m\n\u001b[0;32m---> 66\u001b[0m     \u001b[39mreturn\u001b[39;00m make_figure(args\u001b[39m=\u001b[39;49m\u001b[39mlocals\u001b[39;49m(), constructor\u001b[39m=\u001b[39;49mgo\u001b[39m.\u001b[39;49mScatter)\n",
      "File \u001b[0;32m/Library/Frameworks/Python.framework/Versions/3.11/lib/python3.11/site-packages/plotly/express/_core.py:2253\u001b[0m, in \u001b[0;36mmake_figure\u001b[0;34m(args, constructor, trace_patch, layout_patch)\u001b[0m\n\u001b[1;32m   2250\u001b[0m     \u001b[39melif\u001b[39;00m args[\u001b[39m\"\u001b[39m\u001b[39mecdfnorm\u001b[39m\u001b[39m\"\u001b[39m] \u001b[39m==\u001b[39m \u001b[39m\"\u001b[39m\u001b[39mpercent\u001b[39m\u001b[39m\"\u001b[39m:\n\u001b[1;32m   2251\u001b[0m         group[var] \u001b[39m=\u001b[39m \u001b[39m100.0\u001b[39m \u001b[39m*\u001b[39m group[var] \u001b[39m/\u001b[39m group_sum\n\u001b[0;32m-> 2253\u001b[0m patch, fit_results \u001b[39m=\u001b[39m make_trace_kwargs(\n\u001b[1;32m   2254\u001b[0m     args, trace_spec, group, mapping_labels\u001b[39m.\u001b[39;49mcopy(), sizeref\n\u001b[1;32m   2255\u001b[0m )\n\u001b[1;32m   2256\u001b[0m trace\u001b[39m.\u001b[39mupdate(patch)\n\u001b[1;32m   2257\u001b[0m \u001b[39mif\u001b[39;00m fit_results \u001b[39mis\u001b[39;00m \u001b[39mnot\u001b[39;00m \u001b[39mNone\u001b[39;00m:\n",
      "File \u001b[0;32m/Library/Frameworks/Python.framework/Versions/3.11/lib/python3.11/site-packages/plotly/express/_core.py:359\u001b[0m, in \u001b[0;36mmake_trace_kwargs\u001b[0;34m(args, trace_spec, trace_data, mapping_labels, sizeref)\u001b[0m\n\u001b[1;32m    357\u001b[0m trace_patch[\u001b[39m\"\u001b[39m\u001b[39mx\u001b[39m\u001b[39m\"\u001b[39m] \u001b[39m=\u001b[39m sorted_trace_data[args[\u001b[39m\"\u001b[39m\u001b[39mx\u001b[39m\u001b[39m\"\u001b[39m]][non_missing]\n\u001b[1;32m    358\u001b[0m trendline_function \u001b[39m=\u001b[39m trendline_functions[attr_value]\n\u001b[0;32m--> 359\u001b[0m y_out, hover_header, fit_results \u001b[39m=\u001b[39m trendline_function(\n\u001b[1;32m    360\u001b[0m     args[\u001b[39m\"\u001b[39;49m\u001b[39mtrendline_options\u001b[39;49m\u001b[39m\"\u001b[39;49m],\n\u001b[1;32m    361\u001b[0m     sorted_trace_data[args[\u001b[39m\"\u001b[39;49m\u001b[39mx\u001b[39;49m\u001b[39m\"\u001b[39;49m]],\n\u001b[1;32m    362\u001b[0m     x,\n\u001b[1;32m    363\u001b[0m     y,\n\u001b[1;32m    364\u001b[0m     args[\u001b[39m\"\u001b[39;49m\u001b[39mx\u001b[39;49m\u001b[39m\"\u001b[39;49m],\n\u001b[1;32m    365\u001b[0m     args[\u001b[39m\"\u001b[39;49m\u001b[39my\u001b[39;49m\u001b[39m\"\u001b[39;49m],\n\u001b[1;32m    366\u001b[0m     non_missing,\n\u001b[1;32m    367\u001b[0m )\n\u001b[1;32m    368\u001b[0m \u001b[39massert\u001b[39;00m \u001b[39mlen\u001b[39m(y_out) \u001b[39m==\u001b[39m \u001b[39mlen\u001b[39m(\n\u001b[1;32m    369\u001b[0m     trace_patch[\u001b[39m\"\u001b[39m\u001b[39mx\u001b[39m\u001b[39m\"\u001b[39m]\n\u001b[1;32m    370\u001b[0m ), \u001b[39m\"\u001b[39m\u001b[39mmissing-data-handling failure in trendline code\u001b[39m\u001b[39m\"\u001b[39m\n\u001b[1;32m    371\u001b[0m trace_patch[\u001b[39m\"\u001b[39m\u001b[39my\u001b[39m\u001b[39m\"\u001b[39m] \u001b[39m=\u001b[39m y_out\n",
      "File \u001b[0;32m/Library/Frameworks/Python.framework/Versions/3.11/lib/python3.11/site-packages/plotly/express/trendline_functions/__init__.py:43\u001b[0m, in \u001b[0;36mols\u001b[0;34m(trendline_options, x_raw, x, y, x_label, y_label, non_missing)\u001b[0m\n\u001b[1;32m     37\u001b[0m     \u001b[39mif\u001b[39;00m k \u001b[39mnot\u001b[39;00m \u001b[39min\u001b[39;00m valid_options:\n\u001b[1;32m     38\u001b[0m         \u001b[39mraise\u001b[39;00m \u001b[39mValueError\u001b[39;00m(\n\u001b[1;32m     39\u001b[0m             \u001b[39m\"\u001b[39m\u001b[39mOLS trendline_options keys must be one of [\u001b[39m\u001b[39m%s\u001b[39;00m\u001b[39m] but got \u001b[39m\u001b[39m'\u001b[39m\u001b[39m%s\u001b[39;00m\u001b[39m'\u001b[39m\u001b[39m\"\u001b[39m\n\u001b[1;32m     40\u001b[0m             \u001b[39m%\u001b[39m (\u001b[39m\"\u001b[39m\u001b[39m, \u001b[39m\u001b[39m\"\u001b[39m\u001b[39m.\u001b[39mjoin(valid_options), k)\n\u001b[1;32m     41\u001b[0m         )\n\u001b[0;32m---> 43\u001b[0m \u001b[39mimport\u001b[39;00m \u001b[39mstatsmodels\u001b[39;00m\u001b[39m.\u001b[39;00m\u001b[39mapi\u001b[39;00m \u001b[39mas\u001b[39;00m \u001b[39msm\u001b[39;00m\n\u001b[1;32m     45\u001b[0m add_constant \u001b[39m=\u001b[39m trendline_options\u001b[39m.\u001b[39mget(\u001b[39m\"\u001b[39m\u001b[39madd_constant\u001b[39m\u001b[39m\"\u001b[39m, \u001b[39mTrue\u001b[39;00m)\n\u001b[1;32m     46\u001b[0m log_x \u001b[39m=\u001b[39m trendline_options\u001b[39m.\u001b[39mget(\u001b[39m\"\u001b[39m\u001b[39mlog_x\u001b[39m\u001b[39m\"\u001b[39m, \u001b[39mFalse\u001b[39;00m)\n",
      "\u001b[0;31mModuleNotFoundError\u001b[0m: No module named 'statsmodels'"
     ]
    }
   ],
   "source": [
    "fig = px.scatter(merged_data, x='FreedomIndex', y='GDP',\n",
    "                 trendline= \"ols\",\n",
    "                 log_x = True,\n",
    "                 hover_data=[\"Country\", \"FreedomIndex\"])\n",
    "fig.show()\n"
   ]
  }
 ],
 "metadata": {
  "kernelspec": {
   "display_name": "Python 3",
   "language": "python",
   "name": "python3"
  },
  "language_info": {
   "codemirror_mode": {
    "name": "ipython",
    "version": 3
   },
   "file_extension": ".py",
   "mimetype": "text/x-python",
   "name": "python",
   "nbconvert_exporter": "python",
   "pygments_lexer": "ipython3",
   "version": "3.11.4"
  },
  "orig_nbformat": 4
 },
 "nbformat": 4,
 "nbformat_minor": 2
}
