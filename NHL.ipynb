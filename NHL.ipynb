{
 "cells": [
  {
   "cell_type": "markdown",
   "metadata": {},
   "source": [
    "<span style= \"font-size:24px;\"> **NHL: Birthday and Elite Athletes**\n",
    "\n",
    "Testing the hypothesis that birthdays make elit athletes in Hockeys"
   ]
  },
  {
   "cell_type": "markdown",
   "metadata": {},
   "source": [
    "<span style=\"font-size:20px;\"> **Hiding data with API**"
   ]
  },
  {
   "cell_type": "markdown",
   "metadata": {},
   "source": [
    "*Steps:*\n",
    "1. Scraping NHL statistics to extract each player's unique endpoint and his birthday\n",
    "2. Create a data frame\n",
    "3. Plot the histogram"
   ]
  },
  {
   "cell_type": "code",
   "execution_count": 1,
   "metadata": {},
   "outputs": [],
   "source": [
    "# Load library\n",
    "import pandas as pd\n",
    "import requests #for API\n",
    "import json\n",
    "import matplotlib.pyplot as plt\n",
    "import numpy as np"
   ]
  },
  {
   "cell_type": "code",
   "execution_count": 2,
   "metadata": {},
   "outputs": [],
   "source": [
    "df3 = pd.DataFrame(columns=['months'])"
   ]
  },
  {
   "cell_type": "code",
   "execution_count": 10,
   "metadata": {},
   "outputs": [],
   "source": [
    "# Run through team IDs between 1 and 11 \n",
    "for team_id in range(1,11,1):\n",
    "    url = 'https://statsapi.web.nhl.com/api/v1/teams/{}/roster'.format(team_id)\n",
    "    \n",
    "    # insert value of each iteration of team_id into a roaster endpoint\n",
    "    r = requests.get(url)\n",
    "    \n",
    "    # read each endpoint into df\n",
    "    roster_data = r.json()\n",
    "    df = pd.json_normalize(roster_data['roster'])\n",
    "\n",
    "    # Add birthday data from each new roster page\n",
    "    for index, row in df.iterrows():\n",
    "        newrow = row['person.id']\n",
    "        url = 'https://statsapi.web.nhl.com/api/v1/people/{}'.format(newrow)\n",
    "        newerdata = requests.get(url)\n",
    "        player_stats = newerdata.json()\n",
    "        \n",
    "        # scrap birthday and birth country field\n",
    "        birthday = (player_stats['people'][0]['birthDate']) \n",
    "        newmonth = int(birthday.split('-')[1])\n",
    "        country = (player_stats['people'][0]['birthCountry'])\n",
    "\n",
    "        # only consider Canada for current analysis\n",
    "        if country == 'CAN':\n",
    "            new_row = pd.DataFrame({'months': [newmonth]})\n",
    "            df3 = pd.concat([df3, new_row], ignore_index=True, axis =0)\n",
    "        else:\n",
    "            pass  # If you don't want to add a row for non-'CAN' countries\n",
    "\n"
   ]
  },
  {
   "cell_type": "code",
   "execution_count": 11,
   "metadata": {},
   "outputs": [
    {
     "name": "stdout",
     "output_type": "stream",
     "text": [
      "Axes(0.125,0.11;0.775x0.77)\n"
     ]
    },
    {
     "data": {
      "image/png": "[encoded data removed]",
      "text/plain": [
       "<Figure size 640x480 with 1 Axes>"
      ]
     },
     "metadata": {},
     "output_type": "display_data"
    }
   ],
   "source": [
    "# Plot the histogram\n",
    "print(df3.months.hist())"
   ]
  },
  {
   "cell_type": "markdown",
   "metadata": {},
   "source": [
    " As we can see from the histogram, most of NHL early talent are born in January. However, a histogram may not be a good visualization for the dataset"
   ]
  },
  {
   "cell_type": "code",
   "execution_count": 12,
   "metadata": {},
   "outputs": [],
   "source": [
    "df3.to_csv('NHL_PlayerData.csv')"
   ]
  },
  {
   "cell_type": "code",
   "execution_count": 14,
   "metadata": {},
   "outputs": [
    {
     "name": "stdout",
     "output_type": "stream",
     "text": [
      "Month frequency\n",
      "months\n",
      "5     14\n",
      "1     14\n",
      "2     13\n",
      "10    10\n",
      "8      8\n",
      "7      7\n",
      "3      7\n",
      "4      6\n",
      "6      6\n",
      "11     6\n",
      "12     3\n",
      "9      3\n",
      "Name: count, dtype: int64\n"
     ]
    }
   ],
   "source": [
    "df = pd.read_csv('NHL_PlayerData.csv')\n",
    "print(\"Month frequency\")\n",
    "print(df['months'].value_counts())"
   ]
  },
  {
   "cell_type": "markdown",
   "metadata": {},
   "source": [
    "It looks like there are nearly double the data in the first 4 months than in the final four. This can make the misconception if we draw the conclusion from the histogram above"
   ]
  },
  {
   "cell_type": "code",
   "execution_count": 15,
   "metadata": {},
   "outputs": [
    {
     "data": {
      "text/plain": [
       "<Axes: xlabel='months'>"
      ]
     },
     "execution_count": 15,
     "metadata": {},
     "output_type": "execute_result"
    },
    {
     "data": {
      "image/png": "[encoded data removed]",
      "text/plain": [
       "<Figure size 640x480 with 1 Axes>"
      ]
     },
     "metadata": {},
     "output_type": "display_data"
    }
   ],
   "source": [
    "df2 = df['months'].value_counts()\n",
    "df2.plot(kind ='bar')"
   ]
  }
 ],
 "metadata": {
  "kernelspec": {
   "display_name": "Python 3",
   "language": "python",
   "name": "python3"
  },
  "language_info": {
   "codemirror_mode": {
    "name": "ipython",
    "version": 3
   },
   "file_extension": ".py",
   "mimetype": "text/x-python",
   "name": "python",
   "nbconvert_exporter": "python",
   "pygments_lexer": "ipython3",
   "version": "3.11.4"
  }
 },
 "nbformat": 4,
 "nbformat_minor": 2
}
